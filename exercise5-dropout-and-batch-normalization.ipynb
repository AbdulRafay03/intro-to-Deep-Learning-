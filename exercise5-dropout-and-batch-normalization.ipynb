{
 "cells": [
  {
   "cell_type": "markdown",
   "id": "21a400ec",
   "metadata": {
    "papermill": {
     "duration": 0.006683,
     "end_time": "2024-01-08T09:51:08.415776",
     "exception": false,
     "start_time": "2024-01-08T09:51:08.409093",
     "status": "completed"
    },
    "tags": []
   },
   "source": [
    "**This notebook is an exercise in the [Intro to Deep Learning](https://www.kaggle.com/learn/intro-to-deep-learning) course.  You can reference the tutorial at [this link](https://www.kaggle.com/ryanholbrook/dropout-and-batch-normalization).**\n",
    "\n",
    "---\n"
   ]
  },
  {
   "cell_type": "markdown",
   "id": "111f066f",
   "metadata": {
    "papermill": {
     "duration": 0.005899,
     "end_time": "2024-01-08T09:51:08.427875",
     "exception": false,
     "start_time": "2024-01-08T09:51:08.421976",
     "status": "completed"
    },
    "tags": []
   },
   "source": [
    "# Introduction #\n",
    "\n",
    "In this exercise, you'll add dropout to the *Spotify* model from Exercise 4 and see how batch normalization can let you successfully train models on difficult datasets.\n",
    "\n",
    "Run the next cell to get started!"
   ]
  },
  {
   "cell_type": "code",
   "execution_count": 1,
   "id": "970ce57e",
   "metadata": {
    "execution": {
     "iopub.execute_input": "2024-01-08T09:51:08.441357Z",
     "iopub.status.busy": "2024-01-08T09:51:08.441011Z",
     "iopub.status.idle": "2024-01-08T09:51:09.139091Z",
     "shell.execute_reply": "2024-01-08T09:51:09.138328Z"
    },
    "papermill": {
     "duration": 0.707467,
     "end_time": "2024-01-08T09:51:09.141385",
     "exception": false,
     "start_time": "2024-01-08T09:51:08.433918",
     "status": "completed"
    },
    "tags": []
   },
   "outputs": [
    {
     "name": "stderr",
     "output_type": "stream",
     "text": [
      "/tmp/ipykernel_26/195640296.py:3: MatplotlibDeprecationWarning: The seaborn styles shipped by Matplotlib are deprecated since 3.6, as they no longer correspond to the styles shipped by seaborn. However, they will remain available as 'seaborn-v0_8-<style>'. Alternatively, directly use the seaborn API instead.\n",
      "  plt.style.use('seaborn-whitegrid')\n"
     ]
    }
   ],
   "source": [
    "# Setup plotting\n",
    "import matplotlib.pyplot as plt\n",
    "plt.style.use('seaborn-whitegrid')\n",
    "# Set Matplotlib defaults\n",
    "plt.rc('figure', autolayout=True)\n",
    "plt.rc('axes', labelweight='bold', labelsize='large',\n",
    "       titleweight='bold', titlesize=18, titlepad=10)\n",
    "plt.rc('animation', html='html5')\n",
    "\n",
    "# Setup feedback system\n",
    "from learntools.core import binder\n",
    "binder.bind(globals())\n",
    "from learntools.deep_learning_intro.ex5 import *"
   ]
  },
  {
   "cell_type": "markdown",
   "id": "688c9ae7",
   "metadata": {
    "papermill": {
     "duration": 0.006085,
     "end_time": "2024-01-08T09:51:09.154079",
     "exception": false,
     "start_time": "2024-01-08T09:51:09.147994",
     "status": "completed"
    },
    "tags": []
   },
   "source": [
    "First load the *Spotify* dataset."
   ]
  },
  {
   "cell_type": "code",
   "execution_count": 2,
   "id": "d12633b1",
   "metadata": {
    "execution": {
     "iopub.execute_input": "2024-01-08T09:51:09.168070Z",
     "iopub.status.busy": "2024-01-08T09:51:09.167308Z",
     "iopub.status.idle": "2024-01-08T09:51:21.773902Z",
     "shell.execute_reply": "2024-01-08T09:51:21.772887Z"
    },
    "papermill": {
     "duration": 12.615887,
     "end_time": "2024-01-08T09:51:21.776060",
     "exception": false,
     "start_time": "2024-01-08T09:51:09.160173",
     "status": "completed"
    },
    "tags": []
   },
   "outputs": [
    {
     "name": "stderr",
     "output_type": "stream",
     "text": [
      "/opt/conda/lib/python3.10/site-packages/scipy/__init__.py:146: UserWarning: A NumPy version >=1.16.5 and <1.23.0 is required for this version of SciPy (detected version 1.24.3\n",
      "  warnings.warn(f\"A NumPy version >={np_minversion} and <{np_maxversion}\"\n"
     ]
    },
    {
     "name": "stdout",
     "output_type": "stream",
     "text": [
      "Input shape: [18]\n"
     ]
    }
   ],
   "source": [
    "import pandas as pd\n",
    "from sklearn.preprocessing import StandardScaler, OneHotEncoder\n",
    "from sklearn.compose import make_column_transformer\n",
    "from sklearn.model_selection import GroupShuffleSplit\n",
    "\n",
    "from tensorflow import keras\n",
    "from tensorflow.keras import layers\n",
    "from tensorflow.keras import callbacks\n",
    "\n",
    "spotify = pd.read_csv('../input/dl-course-data/spotify.csv')\n",
    "\n",
    "X = spotify.copy().dropna()\n",
    "y = X.pop('track_popularity')\n",
    "artists = X['track_artist']\n",
    "\n",
    "features_num = ['danceability', 'energy', 'key', 'loudness', 'mode',\n",
    "                'speechiness', 'acousticness', 'instrumentalness',\n",
    "                'liveness', 'valence', 'tempo', 'duration_ms']\n",
    "features_cat = ['playlist_genre']\n",
    "\n",
    "preprocessor = make_column_transformer(\n",
    "    (StandardScaler(), features_num),\n",
    "    (OneHotEncoder(), features_cat),\n",
    ")\n",
    "\n",
    "def group_split(X, y, group, train_size=0.75):\n",
    "    splitter = GroupShuffleSplit(train_size=train_size)\n",
    "    train, test = next(splitter.split(X, y, groups=group))\n",
    "    return (X.iloc[train], X.iloc[test], y.iloc[train], y.iloc[test])\n",
    "\n",
    "X_train, X_valid, y_train, y_valid = group_split(X, y, artists)\n",
    "\n",
    "X_train = preprocessor.fit_transform(X_train)\n",
    "X_valid = preprocessor.transform(X_valid)\n",
    "y_train = y_train / 100\n",
    "y_valid = y_valid / 100\n",
    "\n",
    "input_shape = [X_train.shape[1]]\n",
    "print(\"Input shape: {}\".format(input_shape))"
   ]
  },
  {
   "cell_type": "markdown",
   "id": "311097c4",
   "metadata": {
    "papermill": {
     "duration": 0.007449,
     "end_time": "2024-01-08T09:51:21.790045",
     "exception": false,
     "start_time": "2024-01-08T09:51:21.782596",
     "status": "completed"
    },
    "tags": []
   },
   "source": [
    "# 1) Add Dropout to Spotify Model\n",
    "\n",
    "Here is the last model from Exercise 4. Add two dropout layers, one after the `Dense` layer with 128 units, and one after the `Dense` layer with 64 units. Set the dropout rate on both to `0.3`."
   ]
  },
  {
   "cell_type": "code",
   "execution_count": 3,
   "id": "8ad4147f",
   "metadata": {
    "execution": {
     "iopub.execute_input": "2024-01-08T09:51:21.804535Z",
     "iopub.status.busy": "2024-01-08T09:51:21.804170Z",
     "iopub.status.idle": "2024-01-08T09:51:22.798904Z",
     "shell.execute_reply": "2024-01-08T09:51:22.797817Z"
    },
    "lines_to_next_cell": 2,
    "papermill": {
     "duration": 1.004427,
     "end_time": "2024-01-08T09:51:22.800987",
     "exception": false,
     "start_time": "2024-01-08T09:51:21.796560",
     "status": "completed"
    },
    "tags": []
   },
   "outputs": [
    {
     "data": {
      "application/javascript": [
       "parent.postMessage({\"jupyterEvent\": \"custom.exercise_interaction\", \"data\": {\"outcomeType\": 1, \"valueTowardsCompletion\": 0.25, \"interactionType\": 1, \"questionType\": 2, \"questionId\": \"1_Q1\", \"learnToolsVersion\": \"0.3.4\", \"failureMessage\": \"\", \"exceptionClass\": \"\", \"trace\": \"\"}}, \"*\")"
      ],
      "text/plain": [
       "<IPython.core.display.Javascript object>"
      ]
     },
     "metadata": {},
     "output_type": "display_data"
    },
    {
     "data": {
      "text/markdown": [
       "<span style=\"color:#33cc33\">Correct</span>"
      ],
      "text/plain": [
       "Correct"
      ]
     },
     "metadata": {},
     "output_type": "display_data"
    }
   ],
   "source": [
    "# YOUR CODE HERE: Add two 30% dropout layers, one after 128 and one after 64\n",
    "model = keras.Sequential([\n",
    "    layers.Dense(128, activation='relu', input_shape=input_shape),\n",
    "    layers.Dropout(0.3),\n",
    "    layers.Dense(64, activation='relu'),\n",
    "    layers.Dropout(0.3),\n",
    "    layers.Dense(1)\n",
    "])\n",
    "\n",
    "# Check your answer\n",
    "q_1.check()"
   ]
  },
  {
   "cell_type": "code",
   "execution_count": 4,
   "id": "7072232a",
   "metadata": {
    "execution": {
     "iopub.execute_input": "2024-01-08T09:51:22.820456Z",
     "iopub.status.busy": "2024-01-08T09:51:22.820134Z",
     "iopub.status.idle": "2024-01-08T09:51:22.823982Z",
     "shell.execute_reply": "2024-01-08T09:51:22.823101Z"
    },
    "papermill": {
     "duration": 0.016783,
     "end_time": "2024-01-08T09:51:22.826359",
     "exception": false,
     "start_time": "2024-01-08T09:51:22.809576",
     "status": "completed"
    },
    "tags": []
   },
   "outputs": [],
   "source": [
    "# Lines below will give you a hint or solution code\n",
    "#q_1.hint()\n",
    "#q_1.solution()"
   ]
  },
  {
   "cell_type": "markdown",
   "id": "5a693607",
   "metadata": {
    "papermill": {
     "duration": 0.006449,
     "end_time": "2024-01-08T09:51:22.839689",
     "exception": false,
     "start_time": "2024-01-08T09:51:22.833240",
     "status": "completed"
    },
    "tags": []
   },
   "source": [
    "Now run this next cell to train the model see the effect of adding dropout."
   ]
  },
  {
   "cell_type": "code",
   "execution_count": 5,
   "id": "74a27a7f",
   "metadata": {
    "execution": {
     "iopub.execute_input": "2024-01-08T09:51:22.853898Z",
     "iopub.status.busy": "2024-01-08T09:51:22.853631Z",
     "iopub.status.idle": "2024-01-08T09:51:33.623471Z",
     "shell.execute_reply": "2024-01-08T09:51:33.622555Z"
    },
    "papermill": {
     "duration": 10.779591,
     "end_time": "2024-01-08T09:51:33.625818",
     "exception": false,
     "start_time": "2024-01-08T09:51:22.846227",
     "status": "completed"
    },
    "tags": []
   },
   "outputs": [
    {
     "name": "stdout",
     "output_type": "stream",
     "text": [
      "Minimum Validation Loss: 0.1940\n"
     ]
    },
    {
     "data": {
      "image/png": "[encoded data removed]",
      "text/plain": [
       "<Figure size 640x480 with 1 Axes>"
      ]
     },
     "metadata": {},
     "output_type": "display_data"
    }
   ],
   "source": [
    "model.compile(\n",
    "    optimizer='adam',\n",
    "    loss='mae',\n",
    ")\n",
    "history = model.fit(\n",
    "    X_train, y_train,\n",
    "    validation_data=(X_valid, y_valid),\n",
    "    batch_size=512,\n",
    "    epochs=50,\n",
    "    verbose=0,\n",
    ")\n",
    "history_df = pd.DataFrame(history.history)\n",
    "history_df.loc[:, ['loss', 'val_loss']].plot()\n",
    "print(\"Minimum Validation Loss: {:0.4f}\".format(history_df['val_loss'].min()))"
   ]
  },
  {
   "cell_type": "markdown",
   "id": "dd1cbd34",
   "metadata": {
    "papermill": {
     "duration": 0.006968,
     "end_time": "2024-01-08T09:51:33.640415",
     "exception": false,
     "start_time": "2024-01-08T09:51:33.633447",
     "status": "completed"
    },
    "tags": []
   },
   "source": [
    "# 2) Evaluate Dropout\n",
    "\n",
    "Recall from Exercise 4 that this model tended to overfit the data around epoch 5. Did adding dropout seem to help prevent overfitting this time?"
   ]
  },
  {
   "cell_type": "code",
   "execution_count": 6,
   "id": "3bba0ba9",
   "metadata": {
    "execution": {
     "iopub.execute_input": "2024-01-08T09:51:33.656544Z",
     "iopub.status.busy": "2024-01-08T09:51:33.655857Z",
     "iopub.status.idle": "2024-01-08T09:51:33.663309Z",
     "shell.execute_reply": "2024-01-08T09:51:33.662476Z"
    },
    "papermill": {
     "duration": 0.017668,
     "end_time": "2024-01-08T09:51:33.665158",
     "exception": false,
     "start_time": "2024-01-08T09:51:33.647490",
     "status": "completed"
    },
    "tags": []
   },
   "outputs": [
    {
     "data": {
      "application/javascript": [
       "parent.postMessage({\"jupyterEvent\": \"custom.exercise_interaction\", \"data\": {\"outcomeType\": 1, \"valueTowardsCompletion\": 0.25, \"interactionType\": 1, \"questionType\": 4, \"questionId\": \"2_Q2\", \"learnToolsVersion\": \"0.3.4\", \"failureMessage\": \"\", \"exceptionClass\": \"\", \"trace\": \"\"}}, \"*\")"
      ],
      "text/plain": [
       "<IPython.core.display.Javascript object>"
      ]
     },
     "metadata": {},
     "output_type": "display_data"
    },
    {
     "data": {
      "text/markdown": [
       "<span style=\"color:#33cc33\">Correct:</span> \n",
       "\n",
       "\n",
       "From the learning curves, you can see that the validation loss remains near a constant minimum even though the training loss continues to decrease. So we can see that adding dropout did prevent overfitting this time. Moreover, by making it harder for the network to fit spurious patterns, dropout may have encouraged the network to seek out more of the true patterns, possibly improving the validation loss some as well).\n"
      ],
      "text/plain": [
       "Correct: \n",
       "\n",
       "\n",
       "From the learning curves, you can see that the validation loss remains near a constant minimum even though the training loss continues to decrease. So we can see that adding dropout did prevent overfitting this time. Moreover, by making it harder for the network to fit spurious patterns, dropout may have encouraged the network to seek out more of the true patterns, possibly improving the validation loss some as well)."
      ]
     },
     "metadata": {},
     "output_type": "display_data"
    }
   ],
   "source": [
    "# View the solution (Run this cell to receive credit!)\n",
    "q_2.check()"
   ]
  },
  {
   "cell_type": "markdown",
   "id": "118ba341",
   "metadata": {
    "papermill": {
     "duration": 0.007644,
     "end_time": "2024-01-08T09:51:33.680877",
     "exception": false,
     "start_time": "2024-01-08T09:51:33.673233",
     "status": "completed"
    },
    "tags": []
   },
   "source": [
    "Now, we'll switch topics to explore how batch normalization can fix problems in training.\n",
    "\n",
    "Load the *Concrete* dataset. We won't do any standardization this time. This will make the effect of batch normalization much more apparent."
   ]
  },
  {
   "cell_type": "code",
   "execution_count": 7,
   "id": "01f06691",
   "metadata": {
    "execution": {
     "iopub.execute_input": "2024-01-08T09:51:33.697411Z",
     "iopub.status.busy": "2024-01-08T09:51:33.696808Z",
     "iopub.status.idle": "2024-01-08T09:51:33.717299Z",
     "shell.execute_reply": "2024-01-08T09:51:33.716520Z"
    },
    "papermill": {
     "duration": 0.03117,
     "end_time": "2024-01-08T09:51:33.719406",
     "exception": false,
     "start_time": "2024-01-08T09:51:33.688236",
     "status": "completed"
    },
    "tags": []
   },
   "outputs": [],
   "source": [
    "import pandas as pd\n",
    "\n",
    "concrete = pd.read_csv('../input/dl-course-data/concrete.csv')\n",
    "df = concrete.copy()\n",
    "\n",
    "df_train = df.sample(frac=0.7, random_state=0)\n",
    "df_valid = df.drop(df_train.index)\n",
    "\n",
    "X_train = df_train.drop('CompressiveStrength', axis=1)\n",
    "X_valid = df_valid.drop('CompressiveStrength', axis=1)\n",
    "y_train = df_train['CompressiveStrength']\n",
    "y_valid = df_valid['CompressiveStrength']\n",
    "\n",
    "input_shape = [X_train.shape[1]]"
   ]
  },
  {
   "cell_type": "markdown",
   "id": "84c32267",
   "metadata": {
    "papermill": {
     "duration": 0.007494,
     "end_time": "2024-01-08T09:51:33.735006",
     "exception": false,
     "start_time": "2024-01-08T09:51:33.727512",
     "status": "completed"
    },
    "tags": []
   },
   "source": [
    "Run the following cell to train the network on the unstandardized *Concrete* data."
   ]
  },
  {
   "cell_type": "code",
   "execution_count": 8,
   "id": "89d24d02",
   "metadata": {
    "execution": {
     "iopub.execute_input": "2024-01-08T09:51:33.751538Z",
     "iopub.status.busy": "2024-01-08T09:51:33.751189Z",
     "iopub.status.idle": "2024-01-08T09:51:41.072287Z",
     "shell.execute_reply": "2024-01-08T09:51:41.071371Z"
    },
    "papermill": {
     "duration": 7.33184,
     "end_time": "2024-01-08T09:51:41.074400",
     "exception": false,
     "start_time": "2024-01-08T09:51:33.742560",
     "status": "completed"
    },
    "tags": []
   },
   "outputs": [
    {
     "name": "stdout",
     "output_type": "stream",
     "text": [
      "Minimum Validation Loss: nan\n"
     ]
    },
    {
     "data": {
      "image/png": "[encoded data removed]",
      "text/plain": [
       "<Figure size 640x480 with 1 Axes>"
      ]
     },
     "metadata": {},
     "output_type": "display_data"
    }
   ],
   "source": [
    "model = keras.Sequential([\n",
    "    layers.Dense(512, activation='relu', input_shape=input_shape),\n",
    "    layers.Dense(512, activation='relu'),    \n",
    "    layers.Dense(512, activation='relu'),\n",
    "    layers.Dense(1),\n",
    "])\n",
    "model.compile(\n",
    "    optimizer='sgd', # SGD is more sensitive to differences of scale\n",
    "    loss='mae',\n",
    "    metrics=['mae'],\n",
    ")\n",
    "history = model.fit(\n",
    "    X_train, y_train,\n",
    "    validation_data=(X_valid, y_valid),\n",
    "    batch_size=64,\n",
    "    epochs=100,\n",
    "    verbose=0,\n",
    ")\n",
    "\n",
    "history_df = pd.DataFrame(history.history)\n",
    "history_df.loc[0:, ['loss', 'val_loss']].plot()\n",
    "print((\"Minimum Validation Loss: {:0.4f}\").format(history_df['val_loss'].min()))"
   ]
  },
  {
   "cell_type": "markdown",
   "id": "26fdca51",
   "metadata": {
    "papermill": {
     "duration": 0.007586,
     "end_time": "2024-01-08T09:51:41.090115",
     "exception": false,
     "start_time": "2024-01-08T09:51:41.082529",
     "status": "completed"
    },
    "tags": []
   },
   "source": [
    "Did you end up with a blank graph? Trying to train this network on this dataset will usually fail. Even when it does converge (due to a lucky weight initialization), it tends to converge to a very large number.\n",
    "\n",
    "# 3) Add Batch Normalization Layers\n",
    "\n",
    "Batch normalization can help correct problems like this.\n",
    "\n",
    "Add four `BatchNormalization` layers, one before each of the dense layers. (Remember to move the `input_shape` argument to the new first layer.)"
   ]
  },
  {
   "cell_type": "code",
   "execution_count": 9,
   "id": "8fa980f9",
   "metadata": {
    "execution": {
     "iopub.execute_input": "2024-01-08T09:51:41.106900Z",
     "iopub.status.busy": "2024-01-08T09:51:41.106581Z",
     "iopub.status.idle": "2024-01-08T09:51:41.221985Z",
     "shell.execute_reply": "2024-01-08T09:51:41.221105Z"
    },
    "lines_to_next_cell": 0,
    "papermill": {
     "duration": 0.126117,
     "end_time": "2024-01-08T09:51:41.223877",
     "exception": false,
     "start_time": "2024-01-08T09:51:41.097760",
     "status": "completed"
    },
    "tags": []
   },
   "outputs": [
    {
     "data": {
      "application/javascript": [
       "parent.postMessage({\"jupyterEvent\": \"custom.exercise_interaction\", \"data\": {\"outcomeType\": 1, \"valueTowardsCompletion\": 0.25, \"interactionType\": 1, \"questionType\": 2, \"questionId\": \"3_Q3\", \"learnToolsVersion\": \"0.3.4\", \"failureMessage\": \"\", \"exceptionClass\": \"\", \"trace\": \"\"}}, \"*\")"
      ],
      "text/plain": [
       "<IPython.core.display.Javascript object>"
      ]
     },
     "metadata": {},
     "output_type": "display_data"
    },
    {
     "data": {
      "text/markdown": [
       "<span style=\"color:#33cc33\">Correct</span>"
      ],
      "text/plain": [
       "Correct"
      ]
     },
     "metadata": {},
     "output_type": "display_data"
    }
   ],
   "source": [
    "# YOUR CODE HERE: Add a BatchNormalization layer before each Dense layer\n",
    "model = keras.Sequential([\n",
    "    layers.BatchNormalization(input_shape=input_shape),\n",
    "    layers.Dense(512, activation='relu'),\n",
    "    layers.BatchNormalization(),\n",
    "    layers.Dense(512, activation='relu'),\n",
    "    layers.BatchNormalization(),\n",
    "    layers.Dense(512, activation='relu'),\n",
    "    layers.BatchNormalization(),\n",
    "    layers.Dense(1),\n",
    "])\n",
    "\n",
    "# Check your answer\n",
    "q_3.check()"
   ]
  },
  {
   "cell_type": "code",
   "execution_count": 10,
   "id": "b3d0cb58",
   "metadata": {
    "execution": {
     "iopub.execute_input": "2024-01-08T09:51:41.241447Z",
     "iopub.status.busy": "2024-01-08T09:51:41.241122Z",
     "iopub.status.idle": "2024-01-08T09:51:41.244839Z",
     "shell.execute_reply": "2024-01-08T09:51:41.244114Z"
    },
    "papermill": {
     "duration": 0.014597,
     "end_time": "2024-01-08T09:51:41.246726",
     "exception": false,
     "start_time": "2024-01-08T09:51:41.232129",
     "status": "completed"
    },
    "tags": []
   },
   "outputs": [],
   "source": [
    "# Lines below will give you a hint or solution code\n",
    "#q_3.hint()\n",
    "#q_3.solution()"
   ]
  },
  {
   "cell_type": "markdown",
   "id": "70f948b9",
   "metadata": {
    "papermill": {
     "duration": 0.007683,
     "end_time": "2024-01-08T09:51:41.262380",
     "exception": false,
     "start_time": "2024-01-08T09:51:41.254697",
     "status": "completed"
    },
    "tags": []
   },
   "source": [
    "Run the next cell to see if batch normalization will let us train the model."
   ]
  },
  {
   "cell_type": "code",
   "execution_count": 11,
   "id": "aa37369b",
   "metadata": {
    "execution": {
     "iopub.execute_input": "2024-01-08T09:51:41.279403Z",
     "iopub.status.busy": "2024-01-08T09:51:41.279115Z",
     "iopub.status.idle": "2024-01-08T09:51:51.624568Z",
     "shell.execute_reply": "2024-01-08T09:51:51.623219Z"
    },
    "papermill": {
     "duration": 10.356975,
     "end_time": "2024-01-08T09:51:51.627351",
     "exception": false,
     "start_time": "2024-01-08T09:51:41.270376",
     "status": "completed"
    },
    "tags": []
   },
   "outputs": [
    {
     "name": "stdout",
     "output_type": "stream",
     "text": [
      "Minimum Validation Loss: 4.1296\n"
     ]
    },
    {
     "data": {
      "image/png": "[encoded data removed]",
      "text/plain": [
       "<Figure size 640x480 with 1 Axes>"
      ]
     },
     "metadata": {},
     "output_type": "display_data"
    }
   ],
   "source": [
    "model.compile(\n",
    "    optimizer='sgd',\n",
    "    loss='mae',\n",
    "    metrics=['mae'],\n",
    ")\n",
    "EPOCHS = 100\n",
    "history = model.fit(\n",
    "    X_train, y_train,\n",
    "    validation_data=(X_valid, y_valid),\n",
    "    batch_size=64,\n",
    "    epochs=EPOCHS,\n",
    "    verbose=0,\n",
    ")\n",
    "\n",
    "history_df = pd.DataFrame(history.history)\n",
    "history_df.loc[0:, ['loss', 'val_loss']].plot()\n",
    "print((\"Minimum Validation Loss: {:0.4f}\").format(history_df['val_loss'].min()))"
   ]
  },
  {
   "cell_type": "markdown",
   "id": "f1048f25",
   "metadata": {
    "papermill": {
     "duration": 0.008555,
     "end_time": "2024-01-08T09:51:51.644833",
     "exception": false,
     "start_time": "2024-01-08T09:51:51.636278",
     "status": "completed"
    },
    "tags": []
   },
   "source": [
    "# 4) Evaluate Batch Normalization\n",
    "\n",
    "Did adding batch normalization help?"
   ]
  },
  {
   "cell_type": "code",
   "execution_count": 12,
   "id": "56914f44",
   "metadata": {
    "execution": {
     "iopub.execute_input": "2024-01-08T09:51:51.663651Z",
     "iopub.status.busy": "2024-01-08T09:51:51.662979Z",
     "iopub.status.idle": "2024-01-08T09:51:51.670584Z",
     "shell.execute_reply": "2024-01-08T09:51:51.669641Z"
    },
    "lines_to_next_cell": 0,
    "papermill": {
     "duration": 0.019238,
     "end_time": "2024-01-08T09:51:51.672620",
     "exception": false,
     "start_time": "2024-01-08T09:51:51.653382",
     "status": "completed"
    },
    "tags": []
   },
   "outputs": [
    {
     "data": {
      "application/javascript": [
       "parent.postMessage({\"jupyterEvent\": \"custom.exercise_interaction\", \"data\": {\"outcomeType\": 1, \"valueTowardsCompletion\": 0.25, \"interactionType\": 1, \"questionType\": 4, \"questionId\": \"4_Q4\", \"learnToolsVersion\": \"0.3.4\", \"failureMessage\": \"\", \"exceptionClass\": \"\", \"trace\": \"\"}}, \"*\")"
      ],
      "text/plain": [
       "<IPython.core.display.Javascript object>"
      ]
     },
     "metadata": {},
     "output_type": "display_data"
    },
    {
     "data": {
      "text/markdown": [
       "<span style=\"color:#33cc33\">Correct:</span> \n",
       "\n",
       "\n",
       "You can see that adding batch normalization was a big improvement on the first attempt! By adaptively scaling the data as it passes through the network, batch normalization can let you train models on difficult datasets.\n"
      ],
      "text/plain": [
       "Correct: \n",
       "\n",
       "\n",
       "You can see that adding batch normalization was a big improvement on the first attempt! By adaptively scaling the data as it passes through the network, batch normalization can let you train models on difficult datasets."
      ]
     },
     "metadata": {},
     "output_type": "display_data"
    }
   ],
   "source": [
    "# View the solution (Run this cell to receive credit!)\n",
    "q_4.check()"
   ]
  },
  {
   "cell_type": "markdown",
   "id": "c2eb5f17",
   "metadata": {
    "papermill": {
     "duration": 0.008706,
     "end_time": "2024-01-08T09:51:51.690389",
     "exception": false,
     "start_time": "2024-01-08T09:51:51.681683",
     "status": "completed"
    },
    "tags": []
   },
   "source": [
    "# Keep Going #\n",
    "\n",
    "[**Create neural networks**](https://www.kaggle.com/ryanholbrook/binary-classification) for binary classification."
   ]
  },
  {
   "cell_type": "markdown",
   "id": "e92fef61",
   "metadata": {
    "papermill": {
     "duration": 0.008572,
     "end_time": "2024-01-08T09:51:51.707729",
     "exception": false,
     "start_time": "2024-01-08T09:51:51.699157",
     "status": "completed"
    },
    "tags": []
   },
   "source": [
    "---\n",
    "\n",
    "\n",
    "\n",
    "\n",
    "*Have questions or comments? Visit the [course discussion forum](https://www.kaggle.com/learn/intro-to-deep-learning/discussion) to chat with other learners.*"
   ]
  }
 ],
 "metadata": {
  "jupytext": {
   "cell_metadata_filter": "-all",
   "formats": "ipynb"
  },
  "kaggle": {
   "accelerator": "gpu",
   "dataSources": [
    {
     "datasetId": 829369,
     "sourceId": 1480608,
     "sourceType": "datasetVersion"
    }
   ],
   "isGpuEnabled": true,
   "isInternetEnabled": false,
   "language": "python",
   "sourceType": "notebook"
  },
  "kernelspec": {
   "display_name": "Python 3",
   "language": "python",
   "name": "python3"
  },
  "language_info": {
   "codemirror_mode": {
    "name": "ipython",
    "version": 3
   },
   "file_extension": ".py",
   "mimetype": "text/x-python",
   "name": "python",
   "nbconvert_exporter": "python",
   "pygments_lexer": "ipython3",
   "version": "3.10.12"
  },
  "papermill": {
   "default_parameters": {},
   "duration": 49.570683,
   "end_time": "2024-01-08T09:51:54.591856",
   "environment_variables": {},
   "exception": null,
   "input_path": "__notebook__.ipynb",
   "output_path": "__notebook__.ipynb",
   "parameters": {},
   "start_time": "2024-01-08T09:51:05.021173",
   "version": "2.4.0"
  }
 },
 "nbformat": 4,
 "nbformat_minor": 5
}
