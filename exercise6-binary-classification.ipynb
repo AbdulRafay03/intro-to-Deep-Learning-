{
 "cells": [
  {
   "cell_type": "markdown",
   "id": "eb24d630",
   "metadata": {
    "papermill": {
     "duration": 0.005183,
     "end_time": "2024-01-08T11:02:43.930394",
     "exception": false,
     "start_time": "2024-01-08T11:02:43.925211",
     "status": "completed"
    },
    "tags": []
   },
   "source": [
    "**This notebook is an exercise in the [Intro to Deep Learning](https://www.kaggle.com/learn/intro-to-deep-learning) course.  You can reference the tutorial at [this link](https://www.kaggle.com/ryanholbrook/binary-classification).**\n",
    "\n",
    "---\n"
   ]
  },
  {
   "cell_type": "markdown",
   "id": "12d16ef9",
   "metadata": {
    "papermill": {
     "duration": 0.004299,
     "end_time": "2024-01-08T11:02:43.939501",
     "exception": false,
     "start_time": "2024-01-08T11:02:43.935202",
     "status": "completed"
    },
    "tags": []
   },
   "source": [
    "# Introduction #\n",
    "\n",
    "In this exercise, you'll build a model to predict hotel cancellations with a binary classifier."
   ]
  },
  {
   "cell_type": "code",
   "execution_count": 1,
   "id": "65d62f14",
   "metadata": {
    "execution": {
     "iopub.execute_input": "2024-01-08T11:02:43.950111Z",
     "iopub.status.busy": "2024-01-08T11:02:43.949736Z",
     "iopub.status.idle": "2024-01-08T11:02:44.679968Z",
     "shell.execute_reply": "2024-01-08T11:02:44.679220Z"
    },
    "lines_to_next_cell": 0,
    "papermill": {
     "duration": 0.738365,
     "end_time": "2024-01-08T11:02:44.682303",
     "exception": false,
     "start_time": "2024-01-08T11:02:43.943938",
     "status": "completed"
    },
    "tags": []
   },
   "outputs": [
    {
     "name": "stderr",
     "output_type": "stream",
     "text": [
      "/tmp/ipykernel_26/3338970720.py:3: MatplotlibDeprecationWarning: The seaborn styles shipped by Matplotlib are deprecated since 3.6, as they no longer correspond to the styles shipped by seaborn. However, they will remain available as 'seaborn-v0_8-<style>'. Alternatively, directly use the seaborn API instead.\n",
      "  plt.style.use('seaborn-whitegrid')\n"
     ]
    }
   ],
   "source": [
    "# Setup plotting\n",
    "import matplotlib.pyplot as plt\n",
    "plt.style.use('seaborn-whitegrid')\n",
    "# Set Matplotlib defaults\n",
    "plt.rc('figure', autolayout=True)\n",
    "plt.rc('axes', labelweight='bold', labelsize='large',\n",
    "       titleweight='bold', titlesize=18, titlepad=10)\n",
    "plt.rc('animation', html='html5')\n",
    "\n",
    "# Setup feedback system\n",
    "from learntools.core import binder\n",
    "binder.bind(globals())\n",
    "from learntools.deep_learning_intro.ex6 import *"
   ]
  },
  {
   "cell_type": "markdown",
   "id": "0d59cac0",
   "metadata": {
    "papermill": {
     "duration": 0.004477,
     "end_time": "2024-01-08T11:02:44.691812",
     "exception": false,
     "start_time": "2024-01-08T11:02:44.687335",
     "status": "completed"
    },
    "tags": []
   },
   "source": [
    "First, load the *Hotel Cancellations* dataset."
   ]
  },
  {
   "cell_type": "code",
   "execution_count": 2,
   "id": "d96e8ed7",
   "metadata": {
    "execution": {
     "iopub.execute_input": "2024-01-08T11:02:44.702377Z",
     "iopub.status.busy": "2024-01-08T11:02:44.701984Z",
     "iopub.status.idle": "2024-01-08T11:02:47.072880Z",
     "shell.execute_reply": "2024-01-08T11:02:47.071982Z"
    },
    "lines_to_next_cell": 2,
    "papermill": {
     "duration": 2.378847,
     "end_time": "2024-01-08T11:02:47.075248",
     "exception": false,
     "start_time": "2024-01-08T11:02:44.696401",
     "status": "completed"
    },
    "tags": []
   },
   "outputs": [
    {
     "name": "stderr",
     "output_type": "stream",
     "text": [
      "/opt/conda/lib/python3.10/site-packages/scipy/__init__.py:146: UserWarning: A NumPy version >=1.16.5 and <1.23.0 is required for this version of SciPy (detected version 1.24.3\n",
      "  warnings.warn(f\"A NumPy version >={np_minversion} and <{np_maxversion}\"\n"
     ]
    }
   ],
   "source": [
    "import pandas as pd\n",
    "\n",
    "from sklearn.model_selection import train_test_split\n",
    "from sklearn.preprocessing import StandardScaler, OneHotEncoder\n",
    "from sklearn.impute import SimpleImputer\n",
    "from sklearn.pipeline import make_pipeline\n",
    "from sklearn.compose import make_column_transformer\n",
    "\n",
    "hotel = pd.read_csv('../input/dl-course-data/hotel.csv')\n",
    "\n",
    "X = hotel.copy()\n",
    "y = X.pop('is_canceled')\n",
    "\n",
    "X['arrival_date_month'] = \\\n",
    "    X['arrival_date_month'].map(\n",
    "        {'January':1, 'February': 2, 'March':3,\n",
    "         'April':4, 'May':5, 'June':6, 'July':7,\n",
    "         'August':8, 'September':9, 'October':10,\n",
    "         'November':11, 'December':12}\n",
    "    )\n",
    "\n",
    "features_num = [\n",
    "    \"lead_time\", \"arrival_date_week_number\",\n",
    "    \"arrival_date_day_of_month\", \"stays_in_weekend_nights\",\n",
    "    \"stays_in_week_nights\", \"adults\", \"children\", \"babies\",\n",
    "    \"is_repeated_guest\", \"previous_cancellations\",\n",
    "    \"previous_bookings_not_canceled\", \"required_car_parking_spaces\",\n",
    "    \"total_of_special_requests\", \"adr\",\n",
    "]\n",
    "features_cat = [\n",
    "    \"hotel\", \"arrival_date_month\", \"meal\",\n",
    "    \"market_segment\", \"distribution_channel\",\n",
    "    \"reserved_room_type\", \"deposit_type\", \"customer_type\",\n",
    "]\n",
    "\n",
    "transformer_num = make_pipeline(\n",
    "    SimpleImputer(strategy=\"constant\"), # there are a few missing values\n",
    "    StandardScaler(),\n",
    ")\n",
    "transformer_cat = make_pipeline(\n",
    "    SimpleImputer(strategy=\"constant\", fill_value=\"NA\"),\n",
    "    OneHotEncoder(handle_unknown='ignore'),\n",
    ")\n",
    "\n",
    "preprocessor = make_column_transformer(\n",
    "    (transformer_num, features_num),\n",
    "    (transformer_cat, features_cat),\n",
    ")\n",
    "\n",
    "# stratify - make sure classes are evenlly represented across splits\n",
    "X_train, X_valid, y_train, y_valid = \\\n",
    "    train_test_split(X, y, stratify=y, train_size=0.75)\n",
    "\n",
    "X_train = preprocessor.fit_transform(X_train)\n",
    "X_valid = preprocessor.transform(X_valid)\n",
    "\n",
    "input_shape = [X_train.shape[1]]"
   ]
  },
  {
   "cell_type": "markdown",
   "id": "5bc115c3",
   "metadata": {
    "papermill": {
     "duration": 0.004581,
     "end_time": "2024-01-08T11:02:47.084979",
     "exception": false,
     "start_time": "2024-01-08T11:02:47.080398",
     "status": "completed"
    },
    "tags": []
   },
   "source": [
    "# 1) Define Model #\n",
    "\n",
    "The model we'll use this time will have both batch normalization and dropout layers. To ease reading we've broken the diagram into blocks, but you can define it layer by layer as usual.\n",
    "\n",
    "Define a model with an architecture given by this diagram:\n",
    "\n",
    "<figure style=\"padding: 1em;\">\n",
    "<img src=\"https://storage.googleapis.com/kaggle-media/learn/images/V04o59Z.png\" width=\"400\" alt=\"Diagram of network architecture: BatchNorm, Dense, BatchNorm, Dropout, Dense, BatchNorm, Dropout, Dense.\">\n",
    "<figcaption style=\"textalign: center; font-style: italic\"><center>Diagram of a binary classifier.</center></figcaption>\n",
    "</figure>\n"
   ]
  },
  {
   "cell_type": "code",
   "execution_count": 3,
   "id": "88fdfe9c",
   "metadata": {
    "execution": {
     "iopub.execute_input": "2024-01-08T11:02:47.095762Z",
     "iopub.status.busy": "2024-01-08T11:02:47.095442Z",
     "iopub.status.idle": "2024-01-08T11:02:59.331358Z",
     "shell.execute_reply": "2024-01-08T11:02:59.330219Z"
    },
    "lines_to_next_cell": 2,
    "papermill": {
     "duration": 12.244536,
     "end_time": "2024-01-08T11:02:59.334264",
     "exception": false,
     "start_time": "2024-01-08T11:02:47.089728",
     "status": "completed"
    },
    "tags": []
   },
   "outputs": [
    {
     "data": {
      "application/javascript": [
       "parent.postMessage({\"jupyterEvent\": \"custom.exercise_interaction\", \"data\": {\"outcomeType\": 1, \"valueTowardsCompletion\": 0.3333333333333333, \"interactionType\": 1, \"questionType\": 2, \"questionId\": \"1_Q1\", \"learnToolsVersion\": \"0.3.4\", \"failureMessage\": \"\", \"exceptionClass\": \"\", \"trace\": \"\"}}, \"*\")"
      ],
      "text/plain": [
       "<IPython.core.display.Javascript object>"
      ]
     },
     "metadata": {},
     "output_type": "display_data"
    },
    {
     "data": {
      "text/markdown": [
       "<span style=\"color:#33cc33\">Correct</span>"
      ],
      "text/plain": [
       "Correct"
      ]
     },
     "metadata": {},
     "output_type": "display_data"
    }
   ],
   "source": [
    "from tensorflow import keras\n",
    "from tensorflow.keras import layers\n",
    "\n",
    "# YOUR CODE HERE: define the model given in the diagram\n",
    "model = keras.Sequential([\n",
    "    layers.BatchNormalization(input_shape=input_shape),\n",
    "    layers.Dense(256, activation='relu'),\n",
    "    layers.BatchNormalization(),\n",
    "    layers.Dropout(0.3),\n",
    "    layers.Dense(256, activation='relu'),\n",
    "    layers.BatchNormalization(),\n",
    "    layers.Dropout(0.3),\n",
    "    layers.Dense(1, activation='sigmoid'),\n",
    "])\n",
    "# Check your answer\n",
    "q_1.check()"
   ]
  },
  {
   "cell_type": "code",
   "execution_count": 4,
   "id": "33ed3c98",
   "metadata": {
    "execution": {
     "iopub.execute_input": "2024-01-08T11:02:59.354043Z",
     "iopub.status.busy": "2024-01-08T11:02:59.353586Z",
     "iopub.status.idle": "2024-01-08T11:02:59.362834Z",
     "shell.execute_reply": "2024-01-08T11:02:59.361973Z"
    },
    "papermill": {
     "duration": 0.021834,
     "end_time": "2024-01-08T11:02:59.364877",
     "exception": false,
     "start_time": "2024-01-08T11:02:59.343043",
     "status": "completed"
    },
    "tags": []
   },
   "outputs": [
    {
     "data": {
      "application/javascript": [
       "parent.postMessage({\"jupyterEvent\": \"custom.exercise_interaction\", \"data\": {\"interactionType\": 3, \"questionType\": 2, \"questionId\": \"1_Q1\", \"learnToolsVersion\": \"0.3.4\", \"valueTowardsCompletion\": 0.0, \"failureMessage\": \"\", \"exceptionClass\": \"\", \"trace\": \"\", \"outcomeType\": 4}}, \"*\")"
      ],
      "text/plain": [
       "<IPython.core.display.Javascript object>"
      ]
     },
     "metadata": {},
     "output_type": "display_data"
    },
    {
     "data": {
      "text/markdown": [
       "<span style=\"color:#33cc99\">Solution:</span> \n",
       "```python\n",
       "\n",
       "from tensorflow import keras\n",
       "from tensorflow.keras import layers\n",
       "\n",
       "model = keras.Sequential([\n",
       "    layers.BatchNormalization(input_shape=input_shape),\n",
       "    layers.Dense(256, activation='relu'),\n",
       "    layers.BatchNormalization(),\n",
       "    layers.Dropout(0.3),\n",
       "    layers.Dense(256, activation='relu'),\n",
       "    layers.BatchNormalization(),\n",
       "    layers.Dropout(0.3),\n",
       "    layers.Dense(1, activation='sigmoid'),\n",
       "])\n",
       "q_1.assert_check_passed()\n",
       "\n",
       "```"
      ],
      "text/plain": [
       "Solution: \n",
       "```python\n",
       "\n",
       "from tensorflow import keras\n",
       "from tensorflow.keras import layers\n",
       "\n",
       "model = keras.Sequential([\n",
       "    layers.BatchNormalization(input_shape=input_shape),\n",
       "    layers.Dense(256, activation='relu'),\n",
       "    layers.BatchNormalization(),\n",
       "    layers.Dropout(0.3),\n",
       "    layers.Dense(256, activation='relu'),\n",
       "    layers.BatchNormalization(),\n",
       "    layers.Dropout(0.3),\n",
       "    layers.Dense(1, activation='sigmoid'),\n",
       "])\n",
       "q_1.assert_check_passed()\n",
       "\n",
       "```"
      ]
     },
     "metadata": {},
     "output_type": "display_data"
    }
   ],
   "source": [
    "#q_1.hint()\n",
    "q_1.solution()"
   ]
  },
  {
   "cell_type": "markdown",
   "id": "33faff86",
   "metadata": {
    "papermill": {
     "duration": 0.006025,
     "end_time": "2024-01-08T11:02:59.377255",
     "exception": false,
     "start_time": "2024-01-08T11:02:59.371230",
     "status": "completed"
    },
    "tags": []
   },
   "source": [
    "# 2) Add Optimizer, Loss, and Metric #\n",
    "\n",
    "Now compile the model with the Adam optimizer and binary versions of the cross-entropy loss and accuracy metric."
   ]
  },
  {
   "cell_type": "code",
   "execution_count": 5,
   "id": "29427a48",
   "metadata": {
    "execution": {
     "iopub.execute_input": "2024-01-08T11:02:59.390108Z",
     "iopub.status.busy": "2024-01-08T11:02:59.389794Z",
     "iopub.status.idle": "2024-01-08T11:02:59.411123Z",
     "shell.execute_reply": "2024-01-08T11:02:59.410240Z"
    },
    "lines_to_next_cell": 0,
    "papermill": {
     "duration": 0.030538,
     "end_time": "2024-01-08T11:02:59.413244",
     "exception": false,
     "start_time": "2024-01-08T11:02:59.382706",
     "status": "completed"
    },
    "tags": []
   },
   "outputs": [
    {
     "data": {
      "application/javascript": [
       "parent.postMessage({\"jupyterEvent\": \"custom.exercise_interaction\", \"data\": {\"outcomeType\": 1, \"valueTowardsCompletion\": 0.3333333333333333, \"interactionType\": 1, \"questionType\": 2, \"questionId\": \"2_Q2\", \"learnToolsVersion\": \"0.3.4\", \"failureMessage\": \"\", \"exceptionClass\": \"\", \"trace\": \"\"}}, \"*\")"
      ],
      "text/plain": [
       "<IPython.core.display.Javascript object>"
      ]
     },
     "metadata": {},
     "output_type": "display_data"
    },
    {
     "data": {
      "text/markdown": [
       "<span style=\"color:#33cc33\">Correct</span>"
      ],
      "text/plain": [
       "Correct"
      ]
     },
     "metadata": {},
     "output_type": "display_data"
    }
   ],
   "source": [
    "# YOUR CODE HERE\n",
    "model.compile(\n",
    "    optimizer = 'adam', \n",
    "    loss = 'binary_crossentropy',\n",
    "    metrics = ['binary_accuracy']\n",
    ")\n",
    "# Check your answer\n",
    "q_2.check()"
   ]
  },
  {
   "cell_type": "code",
   "execution_count": 6,
   "id": "f8e20c24",
   "metadata": {
    "execution": {
     "iopub.execute_input": "2024-01-08T11:02:59.426868Z",
     "iopub.status.busy": "2024-01-08T11:02:59.426059Z",
     "iopub.status.idle": "2024-01-08T11:02:59.429941Z",
     "shell.execute_reply": "2024-01-08T11:02:59.429174Z"
    },
    "lines_to_next_cell": 0,
    "papermill": {
     "duration": 0.012759,
     "end_time": "2024-01-08T11:02:59.431734",
     "exception": false,
     "start_time": "2024-01-08T11:02:59.418975",
     "status": "completed"
    },
    "tags": []
   },
   "outputs": [],
   "source": [
    "# Lines below will give you a hint or solution code\n",
    "#q_2.hint()\n",
    "#q_2.solution()"
   ]
  },
  {
   "cell_type": "markdown",
   "id": "547e71b1",
   "metadata": {
    "papermill": {
     "duration": 0.005344,
     "end_time": "2024-01-08T11:02:59.442722",
     "exception": false,
     "start_time": "2024-01-08T11:02:59.437378",
     "status": "completed"
    },
    "tags": []
   },
   "source": [
    "Finally, run this cell to train the model and view the learning curves. It may run for around 60 to 70 epochs, which could take a minute or two."
   ]
  },
  {
   "cell_type": "code",
   "execution_count": 7,
   "id": "96e7a35d",
   "metadata": {
    "execution": {
     "iopub.execute_input": "2024-01-08T11:02:59.455181Z",
     "iopub.status.busy": "2024-01-08T11:02:59.454612Z",
     "iopub.status.idle": "2024-01-08T11:03:26.992962Z",
     "shell.execute_reply": "2024-01-08T11:03:26.992060Z"
    },
    "papermill": {
     "duration": 27.547118,
     "end_time": "2024-01-08T11:03:26.995273",
     "exception": false,
     "start_time": "2024-01-08T11:02:59.448155",
     "status": "completed"
    },
    "tags": []
   },
   "outputs": [
    {
     "name": "stdout",
     "output_type": "stream",
     "text": [
      "Epoch 1/200\n",
      "175/175 [==============================] - 5s 6ms/step - loss: 0.4870 - binary_accuracy: 0.7697 - val_loss: 0.4337 - val_binary_accuracy: 0.8009\n",
      "Epoch 2/200\n",
      "175/175 [==============================] - 1s 5ms/step - loss: 0.4242 - binary_accuracy: 0.8000 - val_loss: 0.4023 - val_binary_accuracy: 0.8128\n",
      "Epoch 3/200\n",
      "175/175 [==============================] - 1s 5ms/step - loss: 0.4107 - binary_accuracy: 0.8075 - val_loss: 0.3950 - val_binary_accuracy: 0.8146\n",
      "Epoch 4/200\n",
      "175/175 [==============================] - 1s 5ms/step - loss: 0.4039 - binary_accuracy: 0.8114 - val_loss: 0.3906 - val_binary_accuracy: 0.8167\n",
      "Epoch 5/200\n",
      "175/175 [==============================] - 1s 5ms/step - loss: 0.3978 - binary_accuracy: 0.8143 - val_loss: 0.3875 - val_binary_accuracy: 0.8185\n",
      "Epoch 6/200\n",
      "175/175 [==============================] - 1s 5ms/step - loss: 0.3931 - binary_accuracy: 0.8167 - val_loss: 0.3828 - val_binary_accuracy: 0.8228\n",
      "Epoch 7/200\n",
      "175/175 [==============================] - 1s 5ms/step - loss: 0.3899 - binary_accuracy: 0.8186 - val_loss: 0.3808 - val_binary_accuracy: 0.8244\n",
      "Epoch 8/200\n",
      "175/175 [==============================] - 1s 5ms/step - loss: 0.3863 - binary_accuracy: 0.8212 - val_loss: 0.3773 - val_binary_accuracy: 0.8266\n",
      "Epoch 9/200\n",
      "175/175 [==============================] - 1s 5ms/step - loss: 0.3810 - binary_accuracy: 0.8219 - val_loss: 0.3746 - val_binary_accuracy: 0.8274\n",
      "Epoch 10/200\n",
      "175/175 [==============================] - 1s 5ms/step - loss: 0.3796 - binary_accuracy: 0.8230 - val_loss: 0.3734 - val_binary_accuracy: 0.8285\n",
      "Epoch 11/200\n",
      "175/175 [==============================] - 1s 5ms/step - loss: 0.3767 - binary_accuracy: 0.8253 - val_loss: 0.3709 - val_binary_accuracy: 0.8319\n",
      "Epoch 12/200\n",
      "175/175 [==============================] - 1s 5ms/step - loss: 0.3739 - binary_accuracy: 0.8269 - val_loss: 0.3709 - val_binary_accuracy: 0.8313\n",
      "Epoch 13/200\n",
      "175/175 [==============================] - 1s 5ms/step - loss: 0.3724 - binary_accuracy: 0.8272 - val_loss: 0.3717 - val_binary_accuracy: 0.8307\n",
      "Epoch 14/200\n",
      "175/175 [==============================] - 1s 5ms/step - loss: 0.3713 - binary_accuracy: 0.8281 - val_loss: 0.3658 - val_binary_accuracy: 0.8323\n",
      "Epoch 15/200\n",
      "175/175 [==============================] - 1s 5ms/step - loss: 0.3676 - binary_accuracy: 0.8303 - val_loss: 0.3670 - val_binary_accuracy: 0.8320\n",
      "Epoch 16/200\n",
      "175/175 [==============================] - 1s 5ms/step - loss: 0.3662 - binary_accuracy: 0.8302 - val_loss: 0.3638 - val_binary_accuracy: 0.8321\n",
      "Epoch 17/200\n",
      "175/175 [==============================] - 1s 5ms/step - loss: 0.3647 - binary_accuracy: 0.8308 - val_loss: 0.3645 - val_binary_accuracy: 0.8329\n",
      "Epoch 18/200\n",
      "175/175 [==============================] - 1s 5ms/step - loss: 0.3622 - binary_accuracy: 0.8338 - val_loss: 0.3623 - val_binary_accuracy: 0.8350\n",
      "Epoch 19/200\n",
      "175/175 [==============================] - 1s 5ms/step - loss: 0.3612 - binary_accuracy: 0.8333 - val_loss: 0.3615 - val_binary_accuracy: 0.8351\n",
      "Epoch 20/200\n",
      "175/175 [==============================] - 1s 5ms/step - loss: 0.3604 - binary_accuracy: 0.8330 - val_loss: 0.3586 - val_binary_accuracy: 0.8355\n",
      "Epoch 21/200\n",
      "175/175 [==============================] - 1s 5ms/step - loss: 0.3584 - binary_accuracy: 0.8363 - val_loss: 0.3617 - val_binary_accuracy: 0.8354\n",
      "Epoch 22/200\n",
      "175/175 [==============================] - 1s 6ms/step - loss: 0.3574 - binary_accuracy: 0.8355 - val_loss: 0.3604 - val_binary_accuracy: 0.8363\n",
      "Epoch 23/200\n",
      "175/175 [==============================] - 1s 6ms/step - loss: 0.3560 - binary_accuracy: 0.8349 - val_loss: 0.3581 - val_binary_accuracy: 0.8359\n",
      "Epoch 24/200\n",
      "175/175 [==============================] - 1s 5ms/step - loss: 0.3538 - binary_accuracy: 0.8366 - val_loss: 0.3577 - val_binary_accuracy: 0.8377\n",
      "Epoch 25/200\n",
      "175/175 [==============================] - 1s 5ms/step - loss: 0.3543 - binary_accuracy: 0.8362 - val_loss: 0.3594 - val_binary_accuracy: 0.8363\n"
     ]
    },
    {
     "data": {
      "text/plain": [
       "<Axes: title={'center': 'Accuracy'}>"
      ]
     },
     "execution_count": 7,
     "metadata": {},
     "output_type": "execute_result"
    },
    {
     "data": {
      "image/png": "[encoded data removed]",
      "text/plain": [
       "<Figure size 640x480 with 1 Axes>"
      ]
     },
     "metadata": {},
     "output_type": "display_data"
    },
    {
     "data": {
      "image/png": "[encoded data removed]",
      "text/plain": [
       "<Figure size 640x480 with 1 Axes>"
      ]
     },
     "metadata": {},
     "output_type": "display_data"
    }
   ],
   "source": [
    "early_stopping = keras.callbacks.EarlyStopping(\n",
    "    patience=5,\n",
    "    min_delta=0.001,\n",
    "    restore_best_weights=True,\n",
    ")\n",
    "history = model.fit(\n",
    "    X_train, y_train,\n",
    "    validation_data=(X_valid, y_valid),\n",
    "    batch_size=512,\n",
    "    epochs=200,\n",
    "    callbacks=[early_stopping],\n",
    ")\n",
    "\n",
    "history_df = pd.DataFrame(history.history)\n",
    "history_df.loc[:, ['loss', 'val_loss']].plot(title=\"Cross-entropy\")\n",
    "history_df.loc[:, ['binary_accuracy', 'val_binary_accuracy']].plot(title=\"Accuracy\")"
   ]
  },
  {
   "cell_type": "markdown",
   "id": "0a94c15b",
   "metadata": {
    "papermill": {
     "duration": 0.040655,
     "end_time": "2024-01-08T11:03:27.076701",
     "exception": false,
     "start_time": "2024-01-08T11:03:27.036046",
     "status": "completed"
    },
    "tags": []
   },
   "source": [
    "# 3) Train and Evaluate #\n",
    "\n",
    "\n",
    "What do you think about the learning curves? Does it look like the model underfit or overfit? Was the cross-entropy loss a good stand-in for accuracy?"
   ]
  },
  {
   "cell_type": "code",
   "execution_count": 8,
   "id": "dc2fcc31",
   "metadata": {
    "execution": {
     "iopub.execute_input": "2024-01-08T11:03:27.159998Z",
     "iopub.status.busy": "2024-01-08T11:03:27.159621Z",
     "iopub.status.idle": "2024-01-08T11:03:27.167334Z",
     "shell.execute_reply": "2024-01-08T11:03:27.166432Z"
    },
    "papermill": {
     "duration": 0.051762,
     "end_time": "2024-01-08T11:03:27.169482",
     "exception": false,
     "start_time": "2024-01-08T11:03:27.117720",
     "status": "completed"
    },
    "tags": []
   },
   "outputs": [
    {
     "data": {
      "application/javascript": [
       "parent.postMessage({\"jupyterEvent\": \"custom.exercise_interaction\", \"data\": {\"outcomeType\": 1, \"valueTowardsCompletion\": 0.3333333333333333, \"interactionType\": 1, \"questionType\": 4, \"questionId\": \"3_Q3\", \"learnToolsVersion\": \"0.3.4\", \"failureMessage\": \"\", \"exceptionClass\": \"\", \"trace\": \"\"}}, \"*\")"
      ],
      "text/plain": [
       "<IPython.core.display.Javascript object>"
      ]
     },
     "metadata": {},
     "output_type": "display_data"
    },
    {
     "data": {
      "text/markdown": [
       "<span style=\"color:#33cc33\">Correct:</span> \n",
       "\n",
       "Though we can see the training loss continuing to fall, the early stopping callback prevented any overfitting. Moreover, the accuracy rose at the same rate as the cross-entropy fell, so it appears that minimizing cross-entropy was a good stand-in. All in all, it looks like this training was a success!"
      ],
      "text/plain": [
       "Correct: \n",
       "\n",
       "Though we can see the training loss continuing to fall, the early stopping callback prevented any overfitting. Moreover, the accuracy rose at the same rate as the cross-entropy fell, so it appears that minimizing cross-entropy was a good stand-in. All in all, it looks like this training was a success!"
      ]
     },
     "metadata": {},
     "output_type": "display_data"
    }
   ],
   "source": [
    "# View the solution (Run this cell to receive credit!)\n",
    "q_3.check()"
   ]
  },
  {
   "cell_type": "markdown",
   "id": "6e8c86ac",
   "metadata": {
    "papermill": {
     "duration": 0.041021,
     "end_time": "2024-01-08T11:03:27.251541",
     "exception": false,
     "start_time": "2024-01-08T11:03:27.210520",
     "status": "completed"
    },
    "tags": []
   },
   "source": [
    "# Conclusion #\n",
    "\n",
    "Congratulations! You've completed Kaggle's *Introduction to Deep Learning* course!\n",
    "\n",
    "With your new skills you're ready to take on more advanced applications like computer vision and sentiment classification. What would you like to do next?\n",
    "\n",
    "Why not try one of our *Getting Started* competitions?\n",
    "\n",
    "- Classify images with TPUs in [**Petals to the Metal**](https://www.kaggle.com/c/tpu-getting-started)\n",
    "- Create art with GANs in [**I'm Something of a Painter Myself**](https://www.kaggle.com/c/gan-getting-started)\n",
    "- Classify Tweets in [**Real or Not? NLP with Disaster Tweets**](https://www.kaggle.com/c/nlp-getting-started)\n",
    "- Detect contradiction and entailment in [**Contradictory, My Dear Watson**](https://www.kaggle.com/c/contradictory-my-dear-watson)\n",
    "\n",
    "Until next time, Kagglers!"
   ]
  },
  {
   "cell_type": "markdown",
   "id": "0959c227",
   "metadata": {
    "papermill": {
     "duration": 0.083714,
     "end_time": "2024-01-08T11:03:27.374631",
     "exception": false,
     "start_time": "2024-01-08T11:03:27.290917",
     "status": "completed"
    },
    "tags": []
   },
   "source": [
    "---\n",
    "\n",
    "\n",
    "\n",
    "\n",
    "*Have questions or comments? Visit the [course discussion forum](https://www.kaggle.com/learn/intro-to-deep-learning/discussion) to chat with other learners.*"
   ]
  }
 ],
 "metadata": {
  "jupytext": {
   "cell_metadata_filter": "-all",
   "formats": "ipynb"
  },
  "kaggle": {
   "accelerator": "gpu",
   "dataSources": [
    {
     "datasetId": 829369,
     "sourceId": 1480608,
     "sourceType": "datasetVersion"
    }
   ],
   "isGpuEnabled": true,
   "isInternetEnabled": false,
   "language": "python",
   "sourceType": "notebook"
  },
  "kernelspec": {
   "display_name": "Python 3",
   "language": "python",
   "name": "python3"
  },
  "language_info": {
   "codemirror_mode": {
    "name": "ipython",
    "version": 3
   },
   "file_extension": ".py",
   "mimetype": "text/x-python",
   "name": "python",
   "nbconvert_exporter": "python",
   "pygments_lexer": "ipython3",
   "version": "3.10.12"
  },
  "papermill": {
   "default_parameters": {},
   "duration": 49.522876,
   "end_time": "2024-01-08T11:03:30.102639",
   "environment_variables": {},
   "exception": null,
   "input_path": "__notebook__.ipynb",
   "output_path": "__notebook__.ipynb",
   "parameters": {},
   "start_time": "2024-01-08T11:02:40.579763",
   "version": "2.4.0"
  }
 },
 "nbformat": 4,
 "nbformat_minor": 5
}
